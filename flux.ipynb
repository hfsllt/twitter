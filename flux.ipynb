{
 "cells": [
  {
   "cell_type": "code",
   "execution_count": 1,
   "id": "30ad2253",
   "metadata": {},
   "outputs": [
    {
     "name": "stdout",
     "output_type": "stream",
     "text": [
      "Collecting python-twitter\n",
      "  Downloading python_twitter-3.5-py2.py3-none-any.whl (67 kB)\n",
      "Collecting requests-oauthlib\n",
      "  Downloading requests_oauthlib-1.3.1-py2.py3-none-any.whl (23 kB)\n",
      "Requirement already satisfied: requests in c:\\users\\haallat\\anaconda3\\lib\\site-packages (from python-twitter) (2.26.0)\n",
      "Requirement already satisfied: future in c:\\users\\haallat\\anaconda3\\lib\\site-packages (from python-twitter) (0.18.2)\n",
      "Requirement already satisfied: idna<4,>=2.5 in c:\\users\\haallat\\anaconda3\\lib\\site-packages (from requests->python-twitter) (3.2)\n",
      "Requirement already satisfied: charset-normalizer~=2.0.0 in c:\\users\\haallat\\anaconda3\\lib\\site-packages (from requests->python-twitter) (2.0.4)\n",
      "Requirement already satisfied: certifi>=2017.4.17 in c:\\users\\haallat\\anaconda3\\lib\\site-packages (from requests->python-twitter) (2021.10.8)\n",
      "Requirement already satisfied: urllib3<1.27,>=1.21.1 in c:\\users\\haallat\\anaconda3\\lib\\site-packages (from requests->python-twitter) (1.26.7)\n",
      "Collecting oauthlib>=3.0.0\n",
      "  Downloading oauthlib-3.2.1-py3-none-any.whl (151 kB)\n",
      "Installing collected packages: oauthlib, requests-oauthlib, python-twitter\n",
      "Successfully installed oauthlib-3.2.1 python-twitter-3.5 requests-oauthlib-1.3.1\n",
      "Note: you may need to restart the kernel to use updated packages.\n"
     ]
    }
   ],
   "source": [
    "pip install python-twitter"
   ]
  },
  {
   "cell_type": "code",
   "execution_count": 3,
   "id": "fffc7974",
   "metadata": {},
   "outputs": [],
   "source": [
    "#importer les packages\n",
    "import requests\n",
    "import pandas as pd\n",
    "import numpy as np\n",
    "from tqdm.notebook import tqdm\n",
    "tqdm.pandas()"
   ]
  },
  {
   "cell_type": "code",
   "execution_count": 2,
   "id": "7fbaaa91",
   "metadata": {},
   "outputs": [],
   "source": [
    "url_scanr='https://storage.gra.cloud.ovh.net/v1/AUTH_32c5d10cb0fe4519b957064a111717e3/scanR/organizations.json'"
   ]
  },
  {
   "cell_type": "code",
   "execution_count": 4,
   "id": "1aa74c12",
   "metadata": {},
   "outputs": [],
   "source": [
    "df = pd.read_json(url_scanr)"
   ]
  },
  {
   "cell_type": "code",
   "execution_count": 9,
   "id": "c1614772",
   "metadata": {},
   "outputs": [
    {
     "data": {
      "text/plain": [
       "Index(['id', 'startDate', 'creationYear', 'endDate', 'status', 'label',\n",
       "       'acronym', 'kind', 'level', 'legalCategory', 'description',\n",
       "       'employeesInfo', 'nature', 'isFrench', 'address', 'alias', 'phone',\n",
       "       'email', 'badges', 'focus', 'evaluations', 'parents', 'leaders',\n",
       "       'institutions', 'predecessors', 'spinoffs', 'relations', 'socialMedias',\n",
       "       'links', 'externalIds', 'keywords', 'activities', 'createdAt',\n",
       "       'removedAt'],\n",
       "      dtype='object')"
      ]
     },
     "execution_count": 9,
     "metadata": {},
     "output_type": "execute_result"
    }
   ],
   "source": [
    "df.columns"
   ]
  },
  {
   "cell_type": "code",
   "execution_count": 13,
   "id": "23985254",
   "metadata": {},
   "outputs": [
    {
     "data": {
      "text/plain": [
       "PME                                                                                          27687\n",
       "Unité de recherche                                                                            9841\n",
       "ETI                                                                                           4408\n",
       "Institution sans but lucratif                                                                 4080\n",
       "GE                                                                                            2135\n",
       "Association                                                                                   1994\n",
       "Structure fédérative                                                                           943\n",
       "Equipe interne                                                                                 760\n",
       "École doctorale                                                                                560\n",
       "Collectivité territoriale ou assimilé                                                          509\n",
       "Autres privés                                                                                  269\n",
       "Établissement public national à caractère scientifique culturel et professionnel (EPCSCP)      250\n",
       "Établissement public administratif                                                             197\n",
       "Établissement public de santé                                                                  177\n",
       "Organisme consulaire                                                                           169\n",
       "Administration de l'état                                                                       122\n",
       "Autre établissement public national d'enseignement                                             102\n",
       "Etablissement public à caractère industriel et commercial (EPIC)                               100\n",
       "Groupement d'intérêt public (GIP)                                                               88\n",
       "Structure internationale                                                                        52\n",
       "Groupement d'intérêt économique (GIE)                                                           47\n",
       "Fondation                                                                                       34\n",
       "organisation internationale                                                                      1\n",
       "Name: level, dtype: int64"
      ]
     },
     "execution_count": 13,
     "metadata": {},
     "output_type": "execute_result"
    }
   ],
   "source": [
    "df.level.value_counts()"
   ]
  },
  {
   "cell_type": "code",
   "execution_count": 8,
   "id": "c7197047",
   "metadata": {},
   "outputs": [
    {
     "data": {
      "text/plain": [
       "'200046977'"
      ]
     },
     "execution_count": 8,
     "metadata": {},
     "output_type": "execute_result"
    }
   ],
   "source": [
    "df.id.dropna().values[3]"
   ]
  },
  {
   "cell_type": "code",
   "execution_count": null,
   "id": "a6c91388",
   "metadata": {},
   "outputs": [],
   "source": [
    "#recuperation du dataframe avec id_structure_scanr et Projet.Partenaire.Nom_organisme sur scanr \n",
    "requete_scanR = requests.get(url_scanr)\n",
    "page_scanR= requete_scanR.json()\n",
    "page_scanR"
   ]
  },
  {
   "cell_type": "code",
   "execution_count": null,
   "id": "8398c468",
   "metadata": {},
   "outputs": [],
   "source": [
    "df_scanR=pd.DataFrame(page_scanR)\n",
    "df_scanR"
   ]
  },
  {
   "cell_type": "code",
   "execution_count": null,
   "id": "1965e78f",
   "metadata": {},
   "outputs": [],
   "source": []
  },
  {
   "cell_type": "code",
   "execution_count": null,
   "id": "a1f4e9ac",
   "metadata": {},
   "outputs": [],
   "source": []
  },
  {
   "cell_type": "code",
   "execution_count": null,
   "id": "6a1cb9b6",
   "metadata": {},
   "outputs": [],
   "source": []
  },
  {
   "cell_type": "code",
   "execution_count": null,
   "id": "688c0dce",
   "metadata": {},
   "outputs": [],
   "source": []
  },
  {
   "cell_type": "code",
   "execution_count": null,
   "id": "fe1effd0",
   "metadata": {},
   "outputs": [],
   "source": []
  }
 ],
 "metadata": {
  "kernelspec": {
   "display_name": "Python 3 (ipykernel)",
   "language": "python",
   "name": "python3"
  },
  "language_info": {
   "codemirror_mode": {
    "name": "ipython",
    "version": 3
   },
   "file_extension": ".py",
   "mimetype": "text/x-python",
   "name": "python",
   "nbconvert_exporter": "python",
   "pygments_lexer": "ipython3",
   "version": "3.9.7"
  }
 },
 "nbformat": 4,
 "nbformat_minor": 5
}
